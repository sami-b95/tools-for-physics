{
 "cells": [
  {
   "cell_type": "code",
   "execution_count": 67,
   "metadata": {},
   "outputs": [],
   "source": [
    "from sympy import *\n",
    "init_printing()"
   ]
  },
  {
   "cell_type": "code",
   "execution_count": 68,
   "metadata": {
    "collapsed": true
   },
   "outputs": [],
   "source": [
    "from sympy.tensor.tensor import TensAdd, TensMul, Tensor, TensorIndexType, tensorhead\n",
    "from sympy.physics.hep.gamma_matrices import LorentzIndex\n",
    "g = tensorhead(\"g\", [LorentzIndex] * 2, [[1, 1]])\n",
    "\n",
    "def my_gamma_trace(expr):\n",
    "    ## Compute the trace of a product of gamma matrices and regular tensors\n",
    "    def trace_gamma_product(prod):\n",
    "        ## Compute the trace of a product of gamma matrices\n",
    "        def gamma_args_to_metric(gamma_args):\n",
    "            ## Extract the index L0 from an expression such as GammaMatrix(L0)\n",
    "            def extract_gamma_index(gamma_expr):\n",
    "                return gamma_expr.args[1].args[0]\n",
    "            ## Main routine\n",
    "            if len(gamma_args) == 0:\n",
    "                return 4\n",
    "            elif len(gamma_args) % 2 == 1:\n",
    "                return 0\n",
    "            first_index = extract_gamma_index(gamma_args[0])\n",
    "            tens_add_args = []\n",
    "            for i in range(1, len(gamma_args)):\n",
    "                # Using LorentzIndex.metric instead of g doesn't work!\n",
    "                lower_order = gamma_args_to_metric(gamma_args[1:i] + gamma_args[(i + 1):])\n",
    "                #print \"has returned\"\n",
    "                #print \"asked to return the trace of \" + str(gamma_args[1:i] + gamma_args[(i + 1):])\n",
    "                #print \"will add the product of \" + str([ g(first_index, extract_gamma_index(gamma_args[i])), lower_order ])\n",
    "                tens_add_args.append((-1) ** (i - 1)\n",
    "                                     * g(first_index, extract_gamma_index(gamma_args[i]))\n",
    "                                     * lower_order)\n",
    "                #print \"done\"\n",
    "            #print \"about to conclude for \" + str(gamma_args)\n",
    "            #print \"will add tensors \" + str(tens_add_args)\n",
    "            #print \"will return \" + str(TensAdd(*tens_add_args))\n",
    "            ## Contracting the metric AT THIS STAGE is important. It guarantees that the final expression\n",
    "            ## has exactly the same number of fixed and running indices as the one passed in argument.\n",
    "            ## Otherwise, if extra running indices appeared, a clash may appear when substituting the expression\n",
    "            ## return by this function\n",
    "            contracted = TensAdd(*tens_add_args).contract_metric(g)\n",
    "            return contracted.canon_bp() if type(contracted) in [ Tensor, TensMul, TensAdd ] else contracted\n",
    "        if type(prod) != TensMul and type(prod) != Tensor:\n",
    "            raise Exception(\"Expected TensMul or Tensor term in sum\")\n",
    "        gamma_args = []\n",
    "        regular_args = []\n",
    "        for arg in prod.args:\n",
    "            if len(arg.args) > 0 and len(arg.args[0].args) > 0 and arg.args[0].args[0] == Symbol(\"GammaMatrix\"):\n",
    "                gamma_args.append(arg)\n",
    "            else:\n",
    "                regular_args.append(arg)\n",
    "        #print \"gamma args: \" + str(gamma_args)\n",
    "        #print \"regular args: \" + str(regular_args)\n",
    "        metric_elts = gamma_args_to_metric(gamma_args)\n",
    "        if metric_elts == 0:\n",
    "            return 0\n",
    "        #print \"metric elts: \" + str(metric_elts)\n",
    "        #print \"will compute the product of the list: \" + str([ metric_elts ] + regular_args)\n",
    "        # prod([ metric_elts ] + regular_args) doesn't work!\n",
    "        return metric_elts * TensMul(*regular_args)\n",
    "    result = None\n",
    "    if type(expr) == TensMul or type(expr) == Tensor:\n",
    "        result = trace_gamma_product(expr)\n",
    "    elif type(expr) == TensAdd:\n",
    "        prods = [ trace_gamma_product(arg) for arg in expr.args ]\n",
    "        #print \"COMPUTED products: \" + str(prods)\n",
    "        result = TensAdd(*prods)\n",
    "    else:\n",
    "        raise \"Invalid type for traced expression\"\n",
    "    return result.contract_metric(g).canon_bp() if type(result) in [ Tensor, TensAdd, TensMul ] else 0"
   ]
  },
  {
   "cell_type": "code",
   "execution_count": 69,
   "metadata": {
    "collapsed": true
   },
   "outputs": [],
   "source": [
    "from sympy import Symbol\n",
    "from sympy.tensor.tensor import tensor_indices, tensorhead\n",
    "from sympy.physics.hep.gamma_matrices import GammaMatrix as G, gamma_trace, LorentzIndex\n",
    "\n",
    "pi, ki, pf = tensorhead(\"pi, ki, pf\", [LorentzIndex], [[1]])\n",
    "i0, i1, i2, i3, i4 = tensor_indices(\"i0:5\", LorentzIndex)\n",
    "x = Symbol(\"x\")\n",
    "pis = pi(i2) * G(-i2)\n",
    "kis = ki(i3) * G(-i3)\n",
    "pfs = pf(i4) * G(-i4)"
   ]
  },
  {
   "cell_type": "code",
   "execution_count": 70,
   "metadata": {},
   "outputs": [
    {
     "name": "stdout",
     "output_type": "stream",
     "text": [
      "(72*x)*ki(L_0)*pf(-L_0)*pi(L_1)*pi(-L_1) - 16*ki(L_0)*ki(-L_0)*pf(L_1)*pi(-L_1) + 32*ki(L_0)*ki(L_1)*pf(-L_0)*pi(-L_1)\n",
      "-16*ki(L_0)*ki(-L_0)*pf(L_1)*pi(-L_1) + 32*ki(L_0)*ki(L_1)*pf(-L_0)*pi(-L_1)\n",
      "(-8*x)*ki(L_0)*pf(-L_0)*pi(L_1)*pi(-L_1)\n"
     ]
    }
   ],
   "source": [
    "# Show the trace of A + B\n",
    "print gamma_trace(pfs * G(i0) * kis * G(i1) * pis * G(-i1) * kis * G(-i0) + pfs * G(i0) * kis * G(i1) * pis * x * G(-i0) * pi(-i1))\n",
    "# Show the trace of A\n",
    "print gamma_trace(pfs * G(i0) * kis * G(i1) * pis * G(-i1) * kis * G(-i0))\n",
    "# Show the trace of B\n",
    "print gamma_trace(pfs * G(i0) * kis * G(i1) * pis * x * G(-i0) * pi(-i1))"
   ]
  },
  {
   "cell_type": "code",
   "execution_count": 71,
   "metadata": {
    "scrolled": true
   },
   "outputs": [
    {
     "name": "stdout",
     "output_type": "stream",
     "text": [
      "(-8*x)*ki(L_0)*pf(-L_0)*pi(L_1)*pi(-L_1) - 16*ki(L_0)*ki(-L_0)*pf(L_1)*pi(-L_1) + 32*ki(L_0)*ki(L_1)*pf(-L_0)*pi(-L_1)\n",
      "-16*ki(L_0)*ki(-L_0)*pf(L_1)*pi(-L_1) + 32*ki(L_0)*ki(L_1)*pf(-L_0)*pi(-L_1)\n",
      "(-8*x)*ki(L_0)*pf(-L_0)*pi(L_1)*pi(-L_1)\n"
     ]
    }
   ],
   "source": [
    "# Show the trace of A + B\n",
    "print my_gamma_trace(pfs * G(i0) * kis * G(i1) * pis * G(-i1) * kis * G(-i0) + pfs * G(i0) * kis * G(i1) * pis * x * G(-i0) * pi(-i1))\n",
    "# Show the trace of A\n",
    "print gamma_trace(pfs * G(i0) * kis * G(i1) * pis * G(-i1) * kis * G(-i0))\n",
    "# Show the trace of B\n",
    "print gamma_trace(pfs * G(i0) * kis * G(i1) * pis * x * G(-i0) * pi(-i1))"
   ]
  },
  {
   "cell_type": "code",
   "execution_count": 65,
   "metadata": {},
   "outputs": [
    {
     "data": {
      "image/png": "[encoded data removed]",
      "text/latex": [
       "$$4$$"
      ],
      "text/plain": [
       "4"
      ]
     },
     "execution_count": 65,
     "metadata": {},
     "output_type": "execute_result"
    }
   ],
   "source": [
    "MyLorentz = TensorIndexType(\"Lorentz\", dummy_fmt=\"L\", dim=4)\n",
    "mymetric = MyLorentz.metric\n",
    "j0, j1, j2, j3 = tensor_indices(\"j0:4\", MyLorentz)\n",
    "mymetric(j0, -j0).contract_metric(mymetric)"
   ]
  }
 ],
 "metadata": {
  "kernelspec": {
   "display_name": "Python 2",
   "language": "python",
   "name": "python2"
  },
  "language_info": {
   "codemirror_mode": {
    "name": "ipython",
    "version": 2
   },
   "file_extension": ".py",
   "mimetype": "text/x-python",
   "name": "python",
   "nbconvert_exporter": "python",
   "pygments_lexer": "ipython2",
   "version": "2.7.10"
  }
 },
 "nbformat": 4,
 "nbformat_minor": 2
}
